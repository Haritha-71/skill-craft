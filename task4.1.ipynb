{
 "cells": [
  {
   "cell_type": "code",
   "execution_count": 1,
   "id": "bfb9bdd5-403c-4c7e-b82e-7447995ee09b",
   "metadata": {},
   "outputs": [
    {
     "name": "stdout",
     "output_type": "stream",
     "text": [
      "Data has been written to Amazon_Products_Full.xlsx\n"
     ]
    }
   ],
   "source": [
    "from bs4 import BeautifulSoup\n",
    "import pandas as pd\n",
    "\n",
    "# Read the HTML file\n",
    "file_path = 'Amazon.html'  # Replace with the path to your HTML file\n",
    "with open(file_path, 'r', encoding='utf-8') as file:\n",
    "    content = file.read()\n",
    "\n",
    "# Parse the HTML content with BeautifulSoup\n",
    "soup = BeautifulSoup(content, 'html.parser')\n",
    "\n",
    "# Initialize lists to store data\n",
    "product_names = []\n",
    "product_prices = []\n",
    "product_reviews = []\n",
    "\n",
    "# Find all the relevant divs\n",
    "divs = soup.find_all(\"div\", class_=\"puis-card-container s-card-container s-overflow-hidden aok-relative puis-include-content-margin puis puis-v1vcm3c30a2jx02lrsa34oun9uo s-latency-cf-section puis-card-border\")\n",
    "\n",
    "# Extract product information\n",
    "for div in divs:\n",
    "    # Extract product name\n",
    "    name_tag = div.find(\"span\", class_=\"a-size-medium a-color-base a-text-normal\")\n",
    "    product_name = name_tag.text.strip() if name_tag else \"\"\n",
    "    product_names.append(product_name)\n",
    "    \n",
    "    # Extract product price\n",
    "    price_tag = div.find(\"span\", class_=\"a-price-whole\")\n",
    "    product_price = price_tag.text.strip() if price_tag else \"\"\n",
    "    product_prices.append(product_price)\n",
    "    \n",
    "    # Extract product reviews\n",
    "    review_tag = div.find(\"span\", class_=\"a-size-base\")\n",
    "    product_review = review_tag.text.strip() if review_tag else \"\"\n",
    "    product_reviews.append(product_review)\n",
    "\n",
    "# Create a DataFrame to hold the data\n",
    "df = pd.DataFrame({\n",
    "    \"Product Name\": product_names,\n",
    "    \"Product Price\": product_prices,\n",
    "    \"Product Review\": product_reviews\n",
    "})\n",
    "\n",
    "# Save the DataFrame to an Excel file\n",
    "output_path = 'Amazon_Products_Full.xlsx'  # Replace with your desired output path\n",
    "df.to_excel(output_path, index=False)\n",
    "\n",
    "print(f\"Data has been written to {output_path}\")"
   ]
  },
  {
   "cell_type": "code",
   "execution_count": null,
   "id": "a93be98b-5a6b-4edc-9658-fc2628ae56dc",
   "metadata": {},
   "outputs": [],
   "source": []
  }
 ],
 "metadata": {
  "kernelspec": {
   "display_name": "Python 3 (ipykernel)",
   "language": "python",
   "name": "python3"
  },
  "language_info": {
   "codemirror_mode": {
    "name": "ipython",
    "version": 3
   },
   "file_extension": ".py",
   "mimetype": "text/x-python",
   "name": "python",
   "nbconvert_exporter": "python",
   "pygments_lexer": "ipython3",
   "version": "3.12.4"
  }
 },
 "nbformat": 4,
 "nbformat_minor": 5
}
