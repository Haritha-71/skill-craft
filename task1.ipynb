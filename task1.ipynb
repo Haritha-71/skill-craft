{
 "cells": [
  {
   "cell_type": "code",
   "execution_count": 1,
   "id": "749fddd6-0066-4629-a8bf-5ead354c7fe8",
   "metadata": {},
   "outputs": [
    {
     "name": "stdout",
     "output_type": "stream",
     "text": [
      "Temperature Conversion Program\n",
      "1. Celsius to Fahrenheit and Kelvin\n",
      "2. Fahrenheit to Celsius and Kelvin\n",
      "3. Kelvin to Celsius and Fahrenheit\n"
     ]
    },
    {
     "name": "stdin",
     "output_type": "stream",
     "text": [
      "Enter your choice (1/2/3):  2\n",
      "Enter temperature in Fahrenheit:  6\n"
     ]
    },
    {
     "name": "stdout",
     "output_type": "stream",
     "text": [
      "6.0°F is equal to -14.444444444444445°C and 258.7055555555555K\n"
     ]
    }
   ],
   "source": [
    "def convert_temperature():\n",
    "    print(\"Temperature Conversion Program\")\n",
    "    print(\"1. Celsius to Fahrenheit and Kelvin\")\n",
    "    print(\"2. Fahrenheit to Celsius and Kelvin\")\n",
    "    print(\"3. Kelvin to Celsius and Fahrenheit\")\n",
    "\n",
    "    choice = input(\"Enter your choice (1/2/3): \")\n",
    "\n",
    "    if choice == \"1\":\n",
    "        celsius = float(input(\"Enter temperature in Celsius: \"))\n",
    "        fahrenheit = (celsius * 9/5) + 32\n",
    "        kelvin = celsius + 273.15\n",
    "        print(f\"{celsius}°C is equal to {fahrenheit}°F and {kelvin}K\")\n",
    "    elif choice == \"2\":\n",
    "        fahrenheit = float(input(\"Enter temperature in Fahrenheit: \"))\n",
    "        celsius = (fahrenheit - 32) * 5/9\n",
    "        kelvin = (fahrenheit - 32) * 5/9 + 273.15\n",
    "        print(f\"{fahrenheit}°F is equal to {celsius}°C and {kelvin}K\")\n",
    "    elif choice == \"3\":\n",
    "        kelvin = float(input(\"Enter temperature in Kelvin: \"))\n",
    "        celsius = kelvin - 273.15\n",
    "        fahrenheit = (kelvin - 273.15) * 9/5 + 32\n",
    "        print(f\"{kelvin}K is equal to {celsius}°C and {fahrenheit}°F\")\n",
    "    else:\n",
    "        print(\"Invalid choice. Please try again.\")\n",
    "\n",
    "convert_temperature()\n"
   ]
  },
  {
   "cell_type": "code",
   "execution_count": null,
   "id": "0f79aeb2-5c5a-40b5-91fd-af38380025a7",
   "metadata": {},
   "outputs": [],
   "source": []
  }
 ],
 "metadata": {
  "kernelspec": {
   "display_name": "Python 3 (ipykernel)",
   "language": "python",
   "name": "python3"
  },
  "language_info": {
   "codemirror_mode": {
    "name": "ipython",
    "version": 3
   },
   "file_extension": ".py",
   "mimetype": "text/x-python",
   "name": "python",
   "nbconvert_exporter": "python",
   "pygments_lexer": "ipython3",
   "version": "3.12.4"
  }
 },
 "nbformat": 4,
 "nbformat_minor": 5
}
